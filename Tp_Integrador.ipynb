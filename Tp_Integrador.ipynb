{
  "nbformat": 4,
  "nbformat_minor": 0,
  "metadata": {
    "colab": {
      "provenance": [],
      "include_colab_link": true
    },
    "kernelspec": {
      "name": "python3",
      "display_name": "Python 3"
    },
    "language_info": {
      "name": "python"
    }
  },
  "cells": [
    {
      "cell_type": "markdown",
      "metadata": {
        "id": "view-in-github",
        "colab_type": "text"
      },
      "source": [
        "<a href=\"https://colab.research.google.com/github/tachi123/python-analisis-datos/blob/main/Tp_Integrador.ipynb\" target=\"_parent\"><img src=\"https://colab.research.google.com/assets/colab-badge.svg\" alt=\"Open In Colab\"/></a>"
      ]
    },
    {
      "cell_type": "markdown",
      "source": [
        "# Trabajo Final Diplomatura CSC\n",
        "Santiago Barandiarán - Nahuel Ramirez Lorca"
      ],
      "metadata": {
        "id": "eTKP01M35JnT"
      }
    },
    {
      "cell_type": "markdown",
      "source": [
        "Trabajaremos con datos de proyectos de investigación científica del año 2017, descargados del portal de datos abiertos del MINCYT.\n",
        "En primer término haremos un análisis descriptivo de las variables de interés que contiene el dataset. Luego nos enfocaremos en un modelo explicativo de los montos financiados en los proyectos.\n",
        "\n",
        "Usamos tres datasets descargados del portal:\n",
        "https://datasets.datos.mincyt.gob.ar/dataset/\n",
        "\n",
        "- Proyectos científicos del 2017\n",
        "https://datasets.datos.mincyt.gob.ar/dataset/proyectos-de-ciencia-tecnologia-e-innovacion/archivo/60675091-b5ca-4d2d-af9d-cbaffd23b16e\n",
        "- Disciplinas de los proyectos\n",
        "https://datasets.datos.mincyt.gob.ar/dataset/proyectos-de-ciencia-tecnologia-e-innovacion/archivo/aa97dfd8-4146-4f07-97b5-c36c6a7e9521\n",
        "\n",
        "- Referencia para las disciplinas de los proyectos  https://datasets.datos.mincyt.gob.ar/dataset/proyectos-de-ciencia-tecnologia-e-innovacion/archivo/1485e432-60f8-4f93-9710-8266d7e98c24\n",
        "\n",
        "\n"
      ],
      "metadata": {
        "id": "dq_7zRJzCwQs"
      }
    },
    {
      "cell_type": "markdown",
      "source": [
        "## Parte 1. Carga y análisis descriptivo de los datos"
      ],
      "metadata": {
        "id": "nqSgeHzjHEF1"
      }
    },
    {
      "cell_type": "markdown",
      "source": [
        "En este primer bloque levantamos los csvs descargados del portal, y los unimos para tener la información consolidada en un dataframe. Dado que el dataset contiene datos de proyectos científicos y también de proyectos de desarrollo tecnológico y de innovación, vamos a filtrar el dataset para concentrarnos únicamente en los proyectos de investigación científica."
      ],
      "metadata": {
        "id": "ZL7vXOQUGlUq"
      }
    },
    {
      "cell_type": "code",
      "source": [
        "# importar librerias\n",
        "import numpy as np\n",
        "import pandas as pd\n",
        "import matplotlib.pyplot as plt\n",
        "import seaborn as sns"
      ],
      "metadata": {
        "id": "s8OJPR7N58el"
      },
      "execution_count": null,
      "outputs": []
    },
    {
      "cell_type": "code",
      "execution_count": null,
      "metadata": {
        "id": "KOGzuaPrvaBD"
      },
      "outputs": [],
      "source": [
        "#levantar csvs\n",
        "df_proy = pd.read_csv('proyectos_2017.csv', sep=';')\n",
        "df_proy_dis = pd.read_csv('proyecto_disciplina.csv', sep=';')\n",
        "df_ref_dis = pd.read_csv('ref_disciplina.csv', sep=';')"
      ]
    },
    {
      "cell_type": "code",
      "source": [
        "#unir los datos de disciplina id de los proyectos con la tabla de referencia de disciplina\n",
        "df_proy_dis_ref = df_proy_dis.merge(df_ref_dis, on='disciplina_id', how='left')"
      ],
      "metadata": {
        "id": "LHQ5mY3hGggT"
      },
      "execution_count": null,
      "outputs": []
    },
    {
      "cell_type": "code",
      "source": [
        "#unir dataset final, con los datos de proyectos y sus disciplinas\n",
        "df = df_proy.merge(df_proy_dis_ref, on='proyecto_id', how='left')"
      ],
      "metadata": {
        "id": "JM687VHpHNaJ"
      },
      "execution_count": null,
      "outputs": []
    },
    {
      "cell_type": "code",
      "source": [
        "df.head()"
      ],
      "metadata": {
        "colab": {
          "base_uri": "https://localhost:8080/",
          "height": 647
        },
        "id": "I-7EIdLIIszp",
        "outputId": "2e9423a5-5097-4212-f0fd-66cd091221fa"
      },
      "execution_count": null,
      "outputs": [
        {
          "output_type": "execute_result",
          "data": {
            "text/plain": [
              "   proyecto_id proyecto_fuente  \\\n",
              "0        21764         CONICET   \n",
              "1        21764         CONICET   \n",
              "2        21765         CONICET   \n",
              "3        21765         CONICET   \n",
              "4        21766         CONICET   \n",
              "\n",
              "                                              titulo             fecha_inicio  \\\n",
              "0  Estructura y funciones de proteínas que intera...  2017/04/01 00:00:00.000   \n",
              "1  Estructura y funciones de proteínas que intera...  2017/04/01 00:00:00.000   \n",
              "2  Configuración y reconfiguración socioterritori...  2017/04/01 00:00:00.000   \n",
              "3  Configuración y reconfiguración socioterritori...  2017/04/01 00:00:00.000   \n",
              "4  Las 'Ómicas' al servicio de la producción anim...  2017/04/01 00:00:00.000   \n",
              "\n",
              "        fecha_finalizacion                                            resumen  \\\n",
              "0  2021/03/31 00:00:00.000  El INIBIOLP tiene vasta experiencia en estudio...   \n",
              "1  2021/03/31 00:00:00.000  El INIBIOLP tiene vasta experiencia en estudio...   \n",
              "2  2021/03/31 00:00:00.000  En este proyecto nos proponemos actualizar y r...   \n",
              "3  2021/03/31 00:00:00.000  En este proyecto nos proponemos actualizar y r...   \n",
              "4  2021/03/31 00:00:00.000  El IGEVET posee una vasta trayectoria en estud...   \n",
              "\n",
              "   moneda_id  monto_total_solicitado  monto_total_adjudicado  \\\n",
              "0          1               5000000.0               5000000.0   \n",
              "1          1               5000000.0               5000000.0   \n",
              "2          1               4550000.0               4550000.0   \n",
              "3          1               4550000.0               4550000.0   \n",
              "4          1               5000000.0               5000000.0   \n",
              "\n",
              "   monto_financiado_solicitado  ...  cantidad_miembros_F  cantidad_miembros_M  \\\n",
              "0                    5000000.0  ...                 59.0                 27.0   \n",
              "1                    5000000.0  ...                 59.0                 27.0   \n",
              "2                    4550000.0  ...                 27.0                 21.0   \n",
              "3                    4550000.0  ...                 27.0                 21.0   \n",
              "4                    5000000.0  ...                 30.0                 19.0   \n",
              "\n",
              "  sexo_director disciplina_id  gran_area_codigo         gran_area_descripcion  \\\n",
              "0             M          38.0               1.0  CIENCIAS NATURALES Y EXACTAS   \n",
              "1             M          41.0               1.0  CIENCIAS NATURALES Y EXACTAS   \n",
              "2             M         215.0               5.0             CIENCIAS SOCIALES   \n",
              "3             M         227.0               6.0                   HUMANIDADES   \n",
              "4             F          42.0               1.0  CIENCIAS NATURALES Y EXACTAS   \n",
              "\n",
              "   area_codigo              area_descripcion disciplina_codigo  \\\n",
              "0          1.6           Ciencias Biológicas             1.6.3   \n",
              "1          1.6           Ciencias Biológicas             1.6.6   \n",
              "2          5.7  Geografía Económica y Social             5.7.2   \n",
              "3          6.1       Historia y Arqueología              6.1.1   \n",
              "4          1.6           Ciencias Biológicas             1.6.7   \n",
              "\n",
              "                              disciplina_descripcion  \n",
              "0      Bioquímica y Biología Molecular (ídem 3.1.10)  \n",
              "1                                          Biofísica  \n",
              "2                     Geografía Cultural y Económica  \n",
              "3  Historia (la historia de la Ciencia y Tecnolog...  \n",
              "4  Genética y Herencia (Genética Médica va en 3 \"...  \n",
              "\n",
              "[5 rows x 26 columns]"
            ],
            "text/html": [
              "\n",
              "  <div id=\"df-37bec5d6-f5c1-4b52-ba9d-73ddbe67eb77\">\n",
              "    <div class=\"colab-df-container\">\n",
              "      <div>\n",
              "<style scoped>\n",
              "    .dataframe tbody tr th:only-of-type {\n",
              "        vertical-align: middle;\n",
              "    }\n",
              "\n",
              "    .dataframe tbody tr th {\n",
              "        vertical-align: top;\n",
              "    }\n",
              "\n",
              "    .dataframe thead th {\n",
              "        text-align: right;\n",
              "    }\n",
              "</style>\n",
              "<table border=\"1\" class=\"dataframe\">\n",
              "  <thead>\n",
              "    <tr style=\"text-align: right;\">\n",
              "      <th></th>\n",
              "      <th>proyecto_id</th>\n",
              "      <th>proyecto_fuente</th>\n",
              "      <th>titulo</th>\n",
              "      <th>fecha_inicio</th>\n",
              "      <th>fecha_finalizacion</th>\n",
              "      <th>resumen</th>\n",
              "      <th>moneda_id</th>\n",
              "      <th>monto_total_solicitado</th>\n",
              "      <th>monto_total_adjudicado</th>\n",
              "      <th>monto_financiado_solicitado</th>\n",
              "      <th>...</th>\n",
              "      <th>cantidad_miembros_F</th>\n",
              "      <th>cantidad_miembros_M</th>\n",
              "      <th>sexo_director</th>\n",
              "      <th>disciplina_id</th>\n",
              "      <th>gran_area_codigo</th>\n",
              "      <th>gran_area_descripcion</th>\n",
              "      <th>area_codigo</th>\n",
              "      <th>area_descripcion</th>\n",
              "      <th>disciplina_codigo</th>\n",
              "      <th>disciplina_descripcion</th>\n",
              "    </tr>\n",
              "  </thead>\n",
              "  <tbody>\n",
              "    <tr>\n",
              "      <th>0</th>\n",
              "      <td>21764</td>\n",
              "      <td>CONICET</td>\n",
              "      <td>Estructura y funciones de proteínas que intera...</td>\n",
              "      <td>2017/04/01 00:00:00.000</td>\n",
              "      <td>2021/03/31 00:00:00.000</td>\n",
              "      <td>El INIBIOLP tiene vasta experiencia en estudio...</td>\n",
              "      <td>1</td>\n",
              "      <td>5000000.0</td>\n",
              "      <td>5000000.0</td>\n",
              "      <td>5000000.0</td>\n",
              "      <td>...</td>\n",
              "      <td>59.0</td>\n",
              "      <td>27.0</td>\n",
              "      <td>M</td>\n",
              "      <td>38.0</td>\n",
              "      <td>1.0</td>\n",
              "      <td>CIENCIAS NATURALES Y EXACTAS</td>\n",
              "      <td>1.6</td>\n",
              "      <td>Ciencias Biológicas</td>\n",
              "      <td>1.6.3</td>\n",
              "      <td>Bioquímica y Biología Molecular (ídem 3.1.10)</td>\n",
              "    </tr>\n",
              "    <tr>\n",
              "      <th>1</th>\n",
              "      <td>21764</td>\n",
              "      <td>CONICET</td>\n",
              "      <td>Estructura y funciones de proteínas que intera...</td>\n",
              "      <td>2017/04/01 00:00:00.000</td>\n",
              "      <td>2021/03/31 00:00:00.000</td>\n",
              "      <td>El INIBIOLP tiene vasta experiencia en estudio...</td>\n",
              "      <td>1</td>\n",
              "      <td>5000000.0</td>\n",
              "      <td>5000000.0</td>\n",
              "      <td>5000000.0</td>\n",
              "      <td>...</td>\n",
              "      <td>59.0</td>\n",
              "      <td>27.0</td>\n",
              "      <td>M</td>\n",
              "      <td>41.0</td>\n",
              "      <td>1.0</td>\n",
              "      <td>CIENCIAS NATURALES Y EXACTAS</td>\n",
              "      <td>1.6</td>\n",
              "      <td>Ciencias Biológicas</td>\n",
              "      <td>1.6.6</td>\n",
              "      <td>Biofísica</td>\n",
              "    </tr>\n",
              "    <tr>\n",
              "      <th>2</th>\n",
              "      <td>21765</td>\n",
              "      <td>CONICET</td>\n",
              "      <td>Configuración y reconfiguración socioterritori...</td>\n",
              "      <td>2017/04/01 00:00:00.000</td>\n",
              "      <td>2021/03/31 00:00:00.000</td>\n",
              "      <td>En este proyecto nos proponemos actualizar y r...</td>\n",
              "      <td>1</td>\n",
              "      <td>4550000.0</td>\n",
              "      <td>4550000.0</td>\n",
              "      <td>4550000.0</td>\n",
              "      <td>...</td>\n",
              "      <td>27.0</td>\n",
              "      <td>21.0</td>\n",
              "      <td>M</td>\n",
              "      <td>215.0</td>\n",
              "      <td>5.0</td>\n",
              "      <td>CIENCIAS SOCIALES</td>\n",
              "      <td>5.7</td>\n",
              "      <td>Geografía Económica y Social</td>\n",
              "      <td>5.7.2</td>\n",
              "      <td>Geografía Cultural y Económica</td>\n",
              "    </tr>\n",
              "    <tr>\n",
              "      <th>3</th>\n",
              "      <td>21765</td>\n",
              "      <td>CONICET</td>\n",
              "      <td>Configuración y reconfiguración socioterritori...</td>\n",
              "      <td>2017/04/01 00:00:00.000</td>\n",
              "      <td>2021/03/31 00:00:00.000</td>\n",
              "      <td>En este proyecto nos proponemos actualizar y r...</td>\n",
              "      <td>1</td>\n",
              "      <td>4550000.0</td>\n",
              "      <td>4550000.0</td>\n",
              "      <td>4550000.0</td>\n",
              "      <td>...</td>\n",
              "      <td>27.0</td>\n",
              "      <td>21.0</td>\n",
              "      <td>M</td>\n",
              "      <td>227.0</td>\n",
              "      <td>6.0</td>\n",
              "      <td>HUMANIDADES</td>\n",
              "      <td>6.1</td>\n",
              "      <td>Historia y Arqueología</td>\n",
              "      <td>6.1.1</td>\n",
              "      <td>Historia (la historia de la Ciencia y Tecnolog...</td>\n",
              "    </tr>\n",
              "    <tr>\n",
              "      <th>4</th>\n",
              "      <td>21766</td>\n",
              "      <td>CONICET</td>\n",
              "      <td>Las 'Ómicas' al servicio de la producción anim...</td>\n",
              "      <td>2017/04/01 00:00:00.000</td>\n",
              "      <td>2021/03/31 00:00:00.000</td>\n",
              "      <td>El IGEVET posee una vasta trayectoria en estud...</td>\n",
              "      <td>1</td>\n",
              "      <td>5000000.0</td>\n",
              "      <td>5000000.0</td>\n",
              "      <td>5000000.0</td>\n",
              "      <td>...</td>\n",
              "      <td>30.0</td>\n",
              "      <td>19.0</td>\n",
              "      <td>F</td>\n",
              "      <td>42.0</td>\n",
              "      <td>1.0</td>\n",
              "      <td>CIENCIAS NATURALES Y EXACTAS</td>\n",
              "      <td>1.6</td>\n",
              "      <td>Ciencias Biológicas</td>\n",
              "      <td>1.6.7</td>\n",
              "      <td>Genética y Herencia (Genética Médica va en 3 \"...</td>\n",
              "    </tr>\n",
              "  </tbody>\n",
              "</table>\n",
              "<p>5 rows × 26 columns</p>\n",
              "</div>\n",
              "      <button class=\"colab-df-convert\" onclick=\"convertToInteractive('df-37bec5d6-f5c1-4b52-ba9d-73ddbe67eb77')\"\n",
              "              title=\"Convert this dataframe to an interactive table.\"\n",
              "              style=\"display:none;\">\n",
              "        \n",
              "  <svg xmlns=\"http://www.w3.org/2000/svg\" height=\"24px\"viewBox=\"0 0 24 24\"\n",
              "       width=\"24px\">\n",
              "    <path d=\"M0 0h24v24H0V0z\" fill=\"none\"/>\n",
              "    <path d=\"M18.56 5.44l.94 2.06.94-2.06 2.06-.94-2.06-.94-.94-2.06-.94 2.06-2.06.94zm-11 1L8.5 8.5l.94-2.06 2.06-.94-2.06-.94L8.5 2.5l-.94 2.06-2.06.94zm10 10l.94 2.06.94-2.06 2.06-.94-2.06-.94-.94-2.06-.94 2.06-2.06.94z\"/><path d=\"M17.41 7.96l-1.37-1.37c-.4-.4-.92-.59-1.43-.59-.52 0-1.04.2-1.43.59L10.3 9.45l-7.72 7.72c-.78.78-.78 2.05 0 2.83L4 21.41c.39.39.9.59 1.41.59.51 0 1.02-.2 1.41-.59l7.78-7.78 2.81-2.81c.8-.78.8-2.07 0-2.86zM5.41 20L4 18.59l7.72-7.72 1.47 1.35L5.41 20z\"/>\n",
              "  </svg>\n",
              "      </button>\n",
              "      \n",
              "  <style>\n",
              "    .colab-df-container {\n",
              "      display:flex;\n",
              "      flex-wrap:wrap;\n",
              "      gap: 12px;\n",
              "    }\n",
              "\n",
              "    .colab-df-convert {\n",
              "      background-color: #E8F0FE;\n",
              "      border: none;\n",
              "      border-radius: 50%;\n",
              "      cursor: pointer;\n",
              "      display: none;\n",
              "      fill: #1967D2;\n",
              "      height: 32px;\n",
              "      padding: 0 0 0 0;\n",
              "      width: 32px;\n",
              "    }\n",
              "\n",
              "    .colab-df-convert:hover {\n",
              "      background-color: #E2EBFA;\n",
              "      box-shadow: 0px 1px 2px rgba(60, 64, 67, 0.3), 0px 1px 3px 1px rgba(60, 64, 67, 0.15);\n",
              "      fill: #174EA6;\n",
              "    }\n",
              "\n",
              "    [theme=dark] .colab-df-convert {\n",
              "      background-color: #3B4455;\n",
              "      fill: #D2E3FC;\n",
              "    }\n",
              "\n",
              "    [theme=dark] .colab-df-convert:hover {\n",
              "      background-color: #434B5C;\n",
              "      box-shadow: 0px 1px 3px 1px rgba(0, 0, 0, 0.15);\n",
              "      filter: drop-shadow(0px 1px 2px rgba(0, 0, 0, 0.3));\n",
              "      fill: #FFFFFF;\n",
              "    }\n",
              "  </style>\n",
              "\n",
              "      <script>\n",
              "        const buttonEl =\n",
              "          document.querySelector('#df-37bec5d6-f5c1-4b52-ba9d-73ddbe67eb77 button.colab-df-convert');\n",
              "        buttonEl.style.display =\n",
              "          google.colab.kernel.accessAllowed ? 'block' : 'none';\n",
              "\n",
              "        async function convertToInteractive(key) {\n",
              "          const element = document.querySelector('#df-37bec5d6-f5c1-4b52-ba9d-73ddbe67eb77');\n",
              "          const dataTable =\n",
              "            await google.colab.kernel.invokeFunction('convertToInteractive',\n",
              "                                                     [key], {});\n",
              "          if (!dataTable) return;\n",
              "\n",
              "          const docLinkHtml = 'Like what you see? Visit the ' +\n",
              "            '<a target=\"_blank\" href=https://colab.research.google.com/notebooks/data_table.ipynb>data table notebook</a>'\n",
              "            + ' to learn more about interactive tables.';\n",
              "          element.innerHTML = '';\n",
              "          dataTable['output_type'] = 'display_data';\n",
              "          await google.colab.output.renderOutput(dataTable, element);\n",
              "          const docLink = document.createElement('div');\n",
              "          docLink.innerHTML = docLinkHtml;\n",
              "          element.appendChild(docLink);\n",
              "        }\n",
              "      </script>\n",
              "    </div>\n",
              "  </div>\n",
              "  "
            ]
          },
          "metadata": {},
          "execution_count": 6
        }
      ]
    },
    {
      "cell_type": "code",
      "source": [
        "#filtrar los proyectos científicos, que tienen dato de disciplina. Dejamos afuera los proyectos de innovacion, que no tienen ese dato\n",
        "df = df.query('disciplina_id >= 1')\n",
        "\n",
        "#seleccionamos las columnas que vamos a usar\n",
        "df = df[['proyecto_id','proyecto_fuente','monto_financiado_solicitado','monto_financiado_adjudicado','gran_area_descripcion','sexo_director']]"
      ],
      "metadata": {
        "id": "SY6gDVgeKJ70"
      },
      "execution_count": null,
      "outputs": []
    },
    {
      "cell_type": "code",
      "source": [
        "df.info()"
      ],
      "metadata": {
        "colab": {
          "base_uri": "https://localhost:8080/"
        },
        "id": "yK-1fMvA7Uba",
        "outputId": "7239a0a1-e3ec-4438-e355-319bcc3f1dfe"
      },
      "execution_count": null,
      "outputs": [
        {
          "output_type": "stream",
          "name": "stdout",
          "text": [
            "<class 'pandas.core.frame.DataFrame'>\n",
            "Int64Index: 1377 entries, 0 to 2259\n",
            "Data columns (total 6 columns):\n",
            " #   Column                       Non-Null Count  Dtype  \n",
            "---  ------                       --------------  -----  \n",
            " 0   proyecto_id                  1377 non-null   int64  \n",
            " 1   proyecto_fuente              1377 non-null   object \n",
            " 2   monto_financiado_solicitado  1377 non-null   float64\n",
            " 3   monto_financiado_adjudicado  1377 non-null   float64\n",
            " 4   gran_area_descripcion        1377 non-null   object \n",
            " 5   sexo_director                1377 non-null   object \n",
            "dtypes: float64(2), int64(1), object(3)\n",
            "memory usage: 75.3+ KB\n"
          ]
        }
      ]
    },
    {
      "cell_type": "markdown",
      "source": [
        "El dataframe que analizaremos tiene 1377 registros, y 6 columnas con variables de los proyectos:\n",
        "- Id: no es de interés para el análisis\n",
        "- fuente: indica la fuente de financiamiento del proyecto\n",
        "- monto solicitado: monto en pesos solicitado por el grupo de investigación\n",
        "- monto adjudidado: monto en pesos adjudicado por la institución financiadora\n",
        "- gran área: clasificación del proyecto en las 6 grandes áreas del conocimiento según tabla FOS-OCDE\n",
        "- sexo: indica sexo de la persona que dirige el proyecto"
      ],
      "metadata": {
        "id": "_-6pMxsl_EVP"
      }
    },
    {
      "cell_type": "code",
      "source": [
        "df.proyecto_fuente.value_counts()"
      ],
      "metadata": {
        "colab": {
          "base_uri": "https://localhost:8080/"
        },
        "id": "FroUdP71o2F5",
        "outputId": "1d3f1fc7-002b-4de3-912e-cf10f4fde3d1"
      },
      "execution_count": null,
      "outputs": [
        {
          "output_type": "execute_result",
          "data": {
            "text/plain": [
              "ANPCYT     717\n",
              "CONICET    660\n",
              "Name: proyecto_fuente, dtype: int64"
            ]
          },
          "metadata": {},
          "execution_count": 9
        }
      ]
    },
    {
      "cell_type": "code",
      "source": [
        "df.gran_area_descripcion.value_counts()"
      ],
      "metadata": {
        "colab": {
          "base_uri": "https://localhost:8080/"
        },
        "id": "CncGUHSPINJj",
        "outputId": "0a00824a-15c2-4315-ab9d-79c6f07d3ead"
      },
      "execution_count": null,
      "outputs": [
        {
          "output_type": "execute_result",
          "data": {
            "text/plain": [
              "CIENCIAS NATURALES Y EXACTAS      602\n",
              "INGENIERÍAS Y TECNOLOGÍAS         277\n",
              "CIENCIAS SOCIALES                 174\n",
              "CIENCIAS AGRÍCOLAS                171\n",
              "CIENCIAS MÉDICAS Y DE LA SALUD     81\n",
              "HUMANIDADES                        72\n",
              "Name: gran_area_descripcion, dtype: int64"
            ]
          },
          "metadata": {},
          "execution_count": 10
        }
      ]
    },
    {
      "cell_type": "code",
      "source": [
        "df.sexo_director.value_counts()"
      ],
      "metadata": {
        "colab": {
          "base_uri": "https://localhost:8080/"
        },
        "id": "rREFV8_sKL51",
        "outputId": "360ad085-8a9d-49fd-80e2-b8277fbf89c0"
      },
      "execution_count": null,
      "outputs": [
        {
          "output_type": "execute_result",
          "data": {
            "text/plain": [
              "M    694\n",
              "F    683\n",
              "Name: sexo_director, dtype: int64"
            ]
          },
          "metadata": {},
          "execution_count": 11
        }
      ]
    },
    {
      "cell_type": "markdown",
      "source": [
        "En cuanto a las variables cualitativas del dataset, podemos ver que los proyectos se reparten en proporciones casi iguales entre los financiados por el CONICET y los financiados por la AGENCIA NACIONAL DE I+D+i.\n",
        "La distribución por gran área del conocimiento se concentra mayoritariamente en las ciencias naturales y exactas y las ingenierías y tecnologías.\n",
        "Y la dirección de los proyectos es pareja entre varones y mujeres."
      ],
      "metadata": {
        "id": "zZPCStdkpAxs"
      }
    },
    {
      "cell_type": "code",
      "source": [
        "df.describe()"
      ],
      "metadata": {
        "colab": {
          "base_uri": "https://localhost:8080/",
          "height": 300
        },
        "id": "HzCk_eNjMFWi",
        "outputId": "708a3e64-7697-4ddc-9a03-e04513c59dd7"
      },
      "execution_count": null,
      "outputs": [
        {
          "output_type": "execute_result",
          "data": {
            "text/plain": [
              "        proyecto_id  monto_financiado_solicitado  monto_financiado_adjudicado\n",
              "count   1377.000000                 1.377000e+03                 1.377000e+03\n",
              "mean   21639.716049                 1.000040e+06                 9.892189e+05\n",
              "std     1244.982405                 1.578331e+06                 1.556225e+06\n",
              "min    19318.000000                 3.000000e+02                 3.000000e+02\n",
              "25%    20122.000000                 1.500000e+05                 1.500000e+05\n",
              "50%    21992.000000                 3.000000e+05                 3.000000e+05\n",
              "75%    22279.000000                 7.500000e+05                 7.500000e+05\n",
              "max    24565.000000                 5.000000e+06                 5.000000e+06"
            ],
            "text/html": [
              "\n",
              "  <div id=\"df-d77b8357-63ab-430b-86e2-f390fba4e3a7\">\n",
              "    <div class=\"colab-df-container\">\n",
              "      <div>\n",
              "<style scoped>\n",
              "    .dataframe tbody tr th:only-of-type {\n",
              "        vertical-align: middle;\n",
              "    }\n",
              "\n",
              "    .dataframe tbody tr th {\n",
              "        vertical-align: top;\n",
              "    }\n",
              "\n",
              "    .dataframe thead th {\n",
              "        text-align: right;\n",
              "    }\n",
              "</style>\n",
              "<table border=\"1\" class=\"dataframe\">\n",
              "  <thead>\n",
              "    <tr style=\"text-align: right;\">\n",
              "      <th></th>\n",
              "      <th>proyecto_id</th>\n",
              "      <th>monto_financiado_solicitado</th>\n",
              "      <th>monto_financiado_adjudicado</th>\n",
              "    </tr>\n",
              "  </thead>\n",
              "  <tbody>\n",
              "    <tr>\n",
              "      <th>count</th>\n",
              "      <td>1377.000000</td>\n",
              "      <td>1.377000e+03</td>\n",
              "      <td>1.377000e+03</td>\n",
              "    </tr>\n",
              "    <tr>\n",
              "      <th>mean</th>\n",
              "      <td>21639.716049</td>\n",
              "      <td>1.000040e+06</td>\n",
              "      <td>9.892189e+05</td>\n",
              "    </tr>\n",
              "    <tr>\n",
              "      <th>std</th>\n",
              "      <td>1244.982405</td>\n",
              "      <td>1.578331e+06</td>\n",
              "      <td>1.556225e+06</td>\n",
              "    </tr>\n",
              "    <tr>\n",
              "      <th>min</th>\n",
              "      <td>19318.000000</td>\n",
              "      <td>3.000000e+02</td>\n",
              "      <td>3.000000e+02</td>\n",
              "    </tr>\n",
              "    <tr>\n",
              "      <th>25%</th>\n",
              "      <td>20122.000000</td>\n",
              "      <td>1.500000e+05</td>\n",
              "      <td>1.500000e+05</td>\n",
              "    </tr>\n",
              "    <tr>\n",
              "      <th>50%</th>\n",
              "      <td>21992.000000</td>\n",
              "      <td>3.000000e+05</td>\n",
              "      <td>3.000000e+05</td>\n",
              "    </tr>\n",
              "    <tr>\n",
              "      <th>75%</th>\n",
              "      <td>22279.000000</td>\n",
              "      <td>7.500000e+05</td>\n",
              "      <td>7.500000e+05</td>\n",
              "    </tr>\n",
              "    <tr>\n",
              "      <th>max</th>\n",
              "      <td>24565.000000</td>\n",
              "      <td>5.000000e+06</td>\n",
              "      <td>5.000000e+06</td>\n",
              "    </tr>\n",
              "  </tbody>\n",
              "</table>\n",
              "</div>\n",
              "      <button class=\"colab-df-convert\" onclick=\"convertToInteractive('df-d77b8357-63ab-430b-86e2-f390fba4e3a7')\"\n",
              "              title=\"Convert this dataframe to an interactive table.\"\n",
              "              style=\"display:none;\">\n",
              "        \n",
              "  <svg xmlns=\"http://www.w3.org/2000/svg\" height=\"24px\"viewBox=\"0 0 24 24\"\n",
              "       width=\"24px\">\n",
              "    <path d=\"M0 0h24v24H0V0z\" fill=\"none\"/>\n",
              "    <path d=\"M18.56 5.44l.94 2.06.94-2.06 2.06-.94-2.06-.94-.94-2.06-.94 2.06-2.06.94zm-11 1L8.5 8.5l.94-2.06 2.06-.94-2.06-.94L8.5 2.5l-.94 2.06-2.06.94zm10 10l.94 2.06.94-2.06 2.06-.94-2.06-.94-.94-2.06-.94 2.06-2.06.94z\"/><path d=\"M17.41 7.96l-1.37-1.37c-.4-.4-.92-.59-1.43-.59-.52 0-1.04.2-1.43.59L10.3 9.45l-7.72 7.72c-.78.78-.78 2.05 0 2.83L4 21.41c.39.39.9.59 1.41.59.51 0 1.02-.2 1.41-.59l7.78-7.78 2.81-2.81c.8-.78.8-2.07 0-2.86zM5.41 20L4 18.59l7.72-7.72 1.47 1.35L5.41 20z\"/>\n",
              "  </svg>\n",
              "      </button>\n",
              "      \n",
              "  <style>\n",
              "    .colab-df-container {\n",
              "      display:flex;\n",
              "      flex-wrap:wrap;\n",
              "      gap: 12px;\n",
              "    }\n",
              "\n",
              "    .colab-df-convert {\n",
              "      background-color: #E8F0FE;\n",
              "      border: none;\n",
              "      border-radius: 50%;\n",
              "      cursor: pointer;\n",
              "      display: none;\n",
              "      fill: #1967D2;\n",
              "      height: 32px;\n",
              "      padding: 0 0 0 0;\n",
              "      width: 32px;\n",
              "    }\n",
              "\n",
              "    .colab-df-convert:hover {\n",
              "      background-color: #E2EBFA;\n",
              "      box-shadow: 0px 1px 2px rgba(60, 64, 67, 0.3), 0px 1px 3px 1px rgba(60, 64, 67, 0.15);\n",
              "      fill: #174EA6;\n",
              "    }\n",
              "\n",
              "    [theme=dark] .colab-df-convert {\n",
              "      background-color: #3B4455;\n",
              "      fill: #D2E3FC;\n",
              "    }\n",
              "\n",
              "    [theme=dark] .colab-df-convert:hover {\n",
              "      background-color: #434B5C;\n",
              "      box-shadow: 0px 1px 3px 1px rgba(0, 0, 0, 0.15);\n",
              "      filter: drop-shadow(0px 1px 2px rgba(0, 0, 0, 0.3));\n",
              "      fill: #FFFFFF;\n",
              "    }\n",
              "  </style>\n",
              "\n",
              "      <script>\n",
              "        const buttonEl =\n",
              "          document.querySelector('#df-d77b8357-63ab-430b-86e2-f390fba4e3a7 button.colab-df-convert');\n",
              "        buttonEl.style.display =\n",
              "          google.colab.kernel.accessAllowed ? 'block' : 'none';\n",
              "\n",
              "        async function convertToInteractive(key) {\n",
              "          const element = document.querySelector('#df-d77b8357-63ab-430b-86e2-f390fba4e3a7');\n",
              "          const dataTable =\n",
              "            await google.colab.kernel.invokeFunction('convertToInteractive',\n",
              "                                                     [key], {});\n",
              "          if (!dataTable) return;\n",
              "\n",
              "          const docLinkHtml = 'Like what you see? Visit the ' +\n",
              "            '<a target=\"_blank\" href=https://colab.research.google.com/notebooks/data_table.ipynb>data table notebook</a>'\n",
              "            + ' to learn more about interactive tables.';\n",
              "          element.innerHTML = '';\n",
              "          dataTable['output_type'] = 'display_data';\n",
              "          await google.colab.output.renderOutput(dataTable, element);\n",
              "          const docLink = document.createElement('div');\n",
              "          docLink.innerHTML = docLinkHtml;\n",
              "          element.appendChild(docLink);\n",
              "        }\n",
              "      </script>\n",
              "    </div>\n",
              "  </div>\n",
              "  "
            ]
          },
          "metadata": {},
          "execution_count": 27
        }
      ]
    },
    {
      "cell_type": "markdown",
      "source": [
        "Las dos variables cuantitativas que analizamos tienen medidas de tendencia central y de dispersión prácticamente idénticas, lo que indica que no hay mucha diferencia entre los montos solicitados y los finalmente adjudicados. En promedio esos montos son de 1 millón de pesos corrientes del año 2017, aunque es mejor mirar el monto mediano de 300.000 pesos, y observar que el 50% central de los proyectos oscila entre 150.000 y 750.000 pesos, ya que la desviación estándar es de una magnitud mayor al promedio (valores extremos muy altos)."
      ],
      "metadata": {
        "id": "hIaYkkkdfAvu"
      }
    },
    {
      "cell_type": "code",
      "source": [
        "sns.histplot(df,x='monto_financiado_solicitado')\n",
        "sns.set(rc={'figure.figsize':(18,9)})\n"
      ],
      "metadata": {
        "colab": {
          "base_uri": "https://localhost:8080/",
          "height": 394
        },
        "id": "q3hc2zxHR6sB",
        "outputId": "e8d04b59-a2cd-4685-ef1e-21129141a55a"
      },
      "execution_count": null,
      "outputs": [
        {
          "output_type": "display_data",
          "data": {
            "text/plain": [
              "<Figure size 864x432 with 1 Axes>"
            ],
            "image/png": "[encoded data removed]"
          },
          "metadata": {}
        }
      ]
    },
    {
      "cell_type": "code",
      "source": [
        "sns.histplot(df,x='monto_financiado_adjudicado')\n",
        "sns.set(rc={'figure.figsize':(18,9)})"
      ],
      "metadata": {
        "colab": {
          "base_uri": "https://localhost:8080/",
          "height": 494
        },
        "id": "VrPv0KsKWU1I",
        "outputId": "5c60d9b2-9b7d-45e0-9e75-686c05633bc9"
      },
      "execution_count": null,
      "outputs": [
        {
          "output_type": "display_data",
          "data": {
            "text/plain": [
              "<Figure size 1296x648 with 1 Axes>"
            ],
            "image/png": "[encoded data removed]"
          },
          "metadata": {}
        }
      ]
    },
    {
      "cell_type": "markdown",
      "source": [
        "Mirando los histogramas podemos entender mejor el problemna de los proyectos de montos altos, que no son unos pocos casos sino más bien un grupo de proyectos con montos alrededor de los 5 millones claramente separado del resto."
      ],
      "metadata": {
        "id": "WnUH2ZmuM2y4"
      }
    },
    {
      "cell_type": "code",
      "source": [
        "#calcular la diferencia entre monto solicitado y adjudicado\n",
        "df['diferencia'] = df.monto_financiado_solicitado - df.monto_financiado_adjudicado"
      ],
      "metadata": {
        "id": "P3MZCT5OOGvU"
      },
      "execution_count": null,
      "outputs": []
    },
    {
      "cell_type": "code",
      "source": [
        "df.describe()"
      ],
      "metadata": {
        "colab": {
          "base_uri": "https://localhost:8080/",
          "height": 300
        },
        "id": "Aaf0wGovOV1I",
        "outputId": "e83a10c0-c2e0-4887-f680-def47510199c"
      },
      "execution_count": null,
      "outputs": [
        {
          "output_type": "execute_result",
          "data": {
            "text/plain": [
              "        proyecto_id  monto_financiado_solicitado  monto_financiado_adjudicado  \\\n",
              "count   1377.000000                 1.377000e+03                 1.377000e+03   \n",
              "mean   21639.716049                 1.000040e+06                 9.892189e+05   \n",
              "std     1244.982405                 1.578331e+06                 1.556225e+06   \n",
              "min    19318.000000                 3.000000e+02                 3.000000e+02   \n",
              "25%    20122.000000                 1.500000e+05                 1.500000e+05   \n",
              "50%    21992.000000                 3.000000e+05                 3.000000e+05   \n",
              "75%    22279.000000                 7.500000e+05                 7.500000e+05   \n",
              "max    24565.000000                 5.000000e+06                 5.000000e+06   \n",
              "\n",
              "         diferencia  \n",
              "count  1.377000e+03  \n",
              "mean   1.082136e+04  \n",
              "std    1.035079e+05  \n",
              "min    0.000000e+00  \n",
              "25%    0.000000e+00  \n",
              "50%    0.000000e+00  \n",
              "75%    0.000000e+00  \n",
              "max    1.800000e+06  "
            ],
            "text/html": [
              "\n",
              "  <div id=\"df-ed4509c4-5b09-455d-8682-d22a8df1a6d0\">\n",
              "    <div class=\"colab-df-container\">\n",
              "      <div>\n",
              "<style scoped>\n",
              "    .dataframe tbody tr th:only-of-type {\n",
              "        vertical-align: middle;\n",
              "    }\n",
              "\n",
              "    .dataframe tbody tr th {\n",
              "        vertical-align: top;\n",
              "    }\n",
              "\n",
              "    .dataframe thead th {\n",
              "        text-align: right;\n",
              "    }\n",
              "</style>\n",
              "<table border=\"1\" class=\"dataframe\">\n",
              "  <thead>\n",
              "    <tr style=\"text-align: right;\">\n",
              "      <th></th>\n",
              "      <th>proyecto_id</th>\n",
              "      <th>monto_financiado_solicitado</th>\n",
              "      <th>monto_financiado_adjudicado</th>\n",
              "      <th>diferencia</th>\n",
              "    </tr>\n",
              "  </thead>\n",
              "  <tbody>\n",
              "    <tr>\n",
              "      <th>count</th>\n",
              "      <td>1377.000000</td>\n",
              "      <td>1.377000e+03</td>\n",
              "      <td>1.377000e+03</td>\n",
              "      <td>1.377000e+03</td>\n",
              "    </tr>\n",
              "    <tr>\n",
              "      <th>mean</th>\n",
              "      <td>21639.716049</td>\n",
              "      <td>1.000040e+06</td>\n",
              "      <td>9.892189e+05</td>\n",
              "      <td>1.082136e+04</td>\n",
              "    </tr>\n",
              "    <tr>\n",
              "      <th>std</th>\n",
              "      <td>1244.982405</td>\n",
              "      <td>1.578331e+06</td>\n",
              "      <td>1.556225e+06</td>\n",
              "      <td>1.035079e+05</td>\n",
              "    </tr>\n",
              "    <tr>\n",
              "      <th>min</th>\n",
              "      <td>19318.000000</td>\n",
              "      <td>3.000000e+02</td>\n",
              "      <td>3.000000e+02</td>\n",
              "      <td>0.000000e+00</td>\n",
              "    </tr>\n",
              "    <tr>\n",
              "      <th>25%</th>\n",
              "      <td>20122.000000</td>\n",
              "      <td>1.500000e+05</td>\n",
              "      <td>1.500000e+05</td>\n",
              "      <td>0.000000e+00</td>\n",
              "    </tr>\n",
              "    <tr>\n",
              "      <th>50%</th>\n",
              "      <td>21992.000000</td>\n",
              "      <td>3.000000e+05</td>\n",
              "      <td>3.000000e+05</td>\n",
              "      <td>0.000000e+00</td>\n",
              "    </tr>\n",
              "    <tr>\n",
              "      <th>75%</th>\n",
              "      <td>22279.000000</td>\n",
              "      <td>7.500000e+05</td>\n",
              "      <td>7.500000e+05</td>\n",
              "      <td>0.000000e+00</td>\n",
              "    </tr>\n",
              "    <tr>\n",
              "      <th>max</th>\n",
              "      <td>24565.000000</td>\n",
              "      <td>5.000000e+06</td>\n",
              "      <td>5.000000e+06</td>\n",
              "      <td>1.800000e+06</td>\n",
              "    </tr>\n",
              "  </tbody>\n",
              "</table>\n",
              "</div>\n",
              "      <button class=\"colab-df-convert\" onclick=\"convertToInteractive('df-ed4509c4-5b09-455d-8682-d22a8df1a6d0')\"\n",
              "              title=\"Convert this dataframe to an interactive table.\"\n",
              "              style=\"display:none;\">\n",
              "        \n",
              "  <svg xmlns=\"http://www.w3.org/2000/svg\" height=\"24px\"viewBox=\"0 0 24 24\"\n",
              "       width=\"24px\">\n",
              "    <path d=\"M0 0h24v24H0V0z\" fill=\"none\"/>\n",
              "    <path d=\"M18.56 5.44l.94 2.06.94-2.06 2.06-.94-2.06-.94-.94-2.06-.94 2.06-2.06.94zm-11 1L8.5 8.5l.94-2.06 2.06-.94-2.06-.94L8.5 2.5l-.94 2.06-2.06.94zm10 10l.94 2.06.94-2.06 2.06-.94-2.06-.94-.94-2.06-.94 2.06-2.06.94z\"/><path d=\"M17.41 7.96l-1.37-1.37c-.4-.4-.92-.59-1.43-.59-.52 0-1.04.2-1.43.59L10.3 9.45l-7.72 7.72c-.78.78-.78 2.05 0 2.83L4 21.41c.39.39.9.59 1.41.59.51 0 1.02-.2 1.41-.59l7.78-7.78 2.81-2.81c.8-.78.8-2.07 0-2.86zM5.41 20L4 18.59l7.72-7.72 1.47 1.35L5.41 20z\"/>\n",
              "  </svg>\n",
              "      </button>\n",
              "      \n",
              "  <style>\n",
              "    .colab-df-container {\n",
              "      display:flex;\n",
              "      flex-wrap:wrap;\n",
              "      gap: 12px;\n",
              "    }\n",
              "\n",
              "    .colab-df-convert {\n",
              "      background-color: #E8F0FE;\n",
              "      border: none;\n",
              "      border-radius: 50%;\n",
              "      cursor: pointer;\n",
              "      display: none;\n",
              "      fill: #1967D2;\n",
              "      height: 32px;\n",
              "      padding: 0 0 0 0;\n",
              "      width: 32px;\n",
              "    }\n",
              "\n",
              "    .colab-df-convert:hover {\n",
              "      background-color: #E2EBFA;\n",
              "      box-shadow: 0px 1px 2px rgba(60, 64, 67, 0.3), 0px 1px 3px 1px rgba(60, 64, 67, 0.15);\n",
              "      fill: #174EA6;\n",
              "    }\n",
              "\n",
              "    [theme=dark] .colab-df-convert {\n",
              "      background-color: #3B4455;\n",
              "      fill: #D2E3FC;\n",
              "    }\n",
              "\n",
              "    [theme=dark] .colab-df-convert:hover {\n",
              "      background-color: #434B5C;\n",
              "      box-shadow: 0px 1px 3px 1px rgba(0, 0, 0, 0.15);\n",
              "      filter: drop-shadow(0px 1px 2px rgba(0, 0, 0, 0.3));\n",
              "      fill: #FFFFFF;\n",
              "    }\n",
              "  </style>\n",
              "\n",
              "      <script>\n",
              "        const buttonEl =\n",
              "          document.querySelector('#df-ed4509c4-5b09-455d-8682-d22a8df1a6d0 button.colab-df-convert');\n",
              "        buttonEl.style.display =\n",
              "          google.colab.kernel.accessAllowed ? 'block' : 'none';\n",
              "\n",
              "        async function convertToInteractive(key) {\n",
              "          const element = document.querySelector('#df-ed4509c4-5b09-455d-8682-d22a8df1a6d0');\n",
              "          const dataTable =\n",
              "            await google.colab.kernel.invokeFunction('convertToInteractive',\n",
              "                                                     [key], {});\n",
              "          if (!dataTable) return;\n",
              "\n",
              "          const docLinkHtml = 'Like what you see? Visit the ' +\n",
              "            '<a target=\"_blank\" href=https://colab.research.google.com/notebooks/data_table.ipynb>data table notebook</a>'\n",
              "            + ' to learn more about interactive tables.';\n",
              "          element.innerHTML = '';\n",
              "          dataTable['output_type'] = 'display_data';\n",
              "          await google.colab.output.renderOutput(dataTable, element);\n",
              "          const docLink = document.createElement('div');\n",
              "          docLink.innerHTML = docLinkHtml;\n",
              "          element.appendChild(docLink);\n",
              "        }\n",
              "      </script>\n",
              "    </div>\n",
              "  </div>\n",
              "  "
            ]
          },
          "metadata": {},
          "execution_count": 36
        }
      ]
    },
    {
      "cell_type": "markdown",
      "source": [
        "Calculando la diferencia entre monto solicitado y adjudicado confirmamos que efectivamente en más del 75% de los proyectos la diferencia es cero."
      ],
      "metadata": {
        "id": "rTgm4VzrblPj"
      }
    },
    {
      "cell_type": "markdown",
      "source": [
        "## Parte 2. Exploración de relaciones entre variables"
      ],
      "metadata": {
        "id": "oFAVoeAXPP5c"
      }
    },
    {
      "cell_type": "markdown",
      "source": [
        "Tomaremos al monto solicitado de los proyectos como variable a ser explicada. Con esa orientación, exploramos si hay diferencias en los montos según la fuente de financiamiento, el gran área y el sexo del director/a."
      ],
      "metadata": {
        "id": "Lf3YIWbgPguD"
      }
    },
    {
      "cell_type": "code",
      "source": [
        "fig, ax = plt.subplots(1, figsize=(10, 10))\n",
        "\n",
        "sns.boxplot( x=df['proyecto_fuente'], y=df['monto_financiado_solicitado']);\n",
        "plt.xticks(rotation = 90)\n",
        "plt.show()"
      ],
      "metadata": {
        "colab": {
          "base_uri": "https://localhost:8080/",
          "height": 652
        },
        "id": "CdPZwwSjQHLm",
        "outputId": "475d5738-c908-4c9a-e1f6-cbd80e1b2458"
      },
      "execution_count": null,
      "outputs": [
        {
          "output_type": "display_data",
          "data": {
            "text/plain": [
              "<Figure size 720x720 with 1 Axes>"
            ],
            "image/png": "[encoded data removed]"
          },
          "metadata": {
            "needs_background": "light"
          }
        }
      ]
    },
    {
      "cell_type": "code",
      "source": [
        "fig, ax = plt.subplots(1, figsize=(10, 10))\n",
        "\n",
        "sns.boxplot( x=df['gran_area_descripcion'], y=df['monto_financiado_solicitado']);\n",
        "plt.xticks(rotation = 90)\n",
        "plt.show()"
      ],
      "metadata": {
        "colab": {
          "base_uri": "https://localhost:8080/",
          "height": 781
        },
        "id": "p5Uz7FEWrK6Q",
        "outputId": "c7e349d0-82ed-4915-fac2-394d720e2661"
      },
      "execution_count": null,
      "outputs": [
        {
          "output_type": "display_data",
          "data": {
            "text/plain": [
              "<Figure size 720x720 with 1 Axes>"
            ],
            "image/png": "[encoded data removed]"
          },
          "metadata": {
            "needs_background": "light"
          }
        }
      ]
    },
    {
      "cell_type": "code",
      "source": [
        "fig, ax = plt.subplots(1, figsize=(10, 10))\n",
        "\n",
        "sns.boxplot( x=df['sexo_director'], y=df['monto_financiado_solicitado']);\n",
        "plt.xticks(rotation = 90)\n",
        "plt.show()"
      ],
      "metadata": {
        "colab": {
          "base_uri": "https://localhost:8080/",
          "height": 616
        },
        "id": "qUiTlEDHQUo7",
        "outputId": "be0d1c2a-a387-416a-c0cd-7082471ef3e0"
      },
      "execution_count": null,
      "outputs": [
        {
          "output_type": "display_data",
          "data": {
            "text/plain": [
              "<Figure size 720x720 with 1 Axes>"
            ],
            "image/png": "[encoded data removed]"
          },
          "metadata": {
            "needs_background": "light"
          }
        }
      ]
    },
    {
      "cell_type": "markdown",
      "source": [
        "Los tres factores evidencian una relación con el monto solicitado.\n",
        "- La ANPCYT recibe (y adjudica) montos medianos ligeramente más altos que el CONICET, aunque en este último el 3er cuartil es de valores bastante superiores al de ANPCYT.\n",
        "- Tal como es esperable, los proyectos de ciencias médicas, de ingenierías, de ciencias agrícolas y de ciencias naturales tienen montos mayores a los de humanidades y ciencias sociales.\n",
        "- Los proyectos dirigidos por varones tienen montos superiores a los dirigidos por mujeres.\n",
        "\n",
        "Este último resultado es interesante explorarlo un poco más. La diferencia en el monto solicitado según sexo ¿se debe acaso a que hay una asociación entre el sexo del director y el gran área? Para responder esto veremos si esta diferencia se mantiene controlando por gran área\n"
      ],
      "metadata": {
        "id": "LS1_F_fdrhMv"
      }
    },
    {
      "cell_type": "code",
      "source": [
        "fig, ax = plt.subplots(1, figsize=(13, 13))\n",
        "\n",
        "sns.boxplot( x=df['gran_area_descripcion'], y=df['monto_financiado_solicitado'], hue=df['sexo_director']);\n",
        "plt.xticks(rotation = 90)\n",
        "plt.show()"
      ],
      "metadata": {
        "colab": {
          "base_uri": "https://localhost:8080/",
          "height": 944
        },
        "id": "s9jvx1MBTuLy",
        "outputId": "5c22bb7e-327b-4477-b48b-63ee4691723d"
      },
      "execution_count": null,
      "outputs": [
        {
          "output_type": "display_data",
          "data": {
            "text/plain": [
              "<Figure size 936x936 with 1 Axes>"
            ],
            "image/png": "[encoded data removed]"
          },
          "metadata": {
            "needs_background": "light"
          }
        }
      ]
    },
    {
      "cell_type": "markdown",
      "source": [
        "Tal como podemos ver en el boxplot, las directoras tienden a solicitar (y consecuentemente a recibir) montos menores a los directores en cuatro de las seis grandes áreas del conocimiento (las excepciones son ingenierías y ciencias sociales).\n"
      ],
      "metadata": {
        "id": "g6bg16n9UVSL"
      }
    },
    {
      "cell_type": "markdown",
      "source": [
        "## Parte 3. Modelado supervisado"
      ],
      "metadata": {
        "id": "_QiDeXXBn7bG"
      }
    },
    {
      "cell_type": "markdown",
      "source": [
        "### 3a. Modelo que prediga el monto - REGRESION LINEAL"
      ],
      "metadata": {
        "id": "cMMLODFXoL38"
      }
    },
    {
      "cell_type": "markdown",
      "source": [
        "Vamos a intentar primero un modelo de regresión lineal para predecir el monto solicitado en función de los factores ya explorados."
      ],
      "metadata": {
        "id": "iyoUYnRfrAwA"
      }
    },
    {
      "cell_type": "code",
      "source": [
        "import statsmodels.formula.api as smf\n",
        "\n",
        "#Modelo completo\n",
        "lm = smf.ols(formula='monto_financiado_solicitado~sexo_director+gran_area_descripcion+proyecto_fuente',data=df).fit()"
      ],
      "metadata": {
        "id": "wBAIXJAlu-PU"
      },
      "execution_count": null,
      "outputs": []
    },
    {
      "cell_type": "code",
      "source": [
        "lm.summary()"
      ],
      "metadata": {
        "colab": {
          "base_uri": "https://localhost:8080/",
          "height": 580
        },
        "id": "3Hmr2uOtvxfX",
        "outputId": "fde4b111-2dc0-4aba-d01d-9e32c82d64e8"
      },
      "execution_count": null,
      "outputs": [
        {
          "output_type": "execute_result",
          "data": {
            "text/plain": [
              "<class 'statsmodels.iolib.summary.Summary'>\n",
              "\"\"\"\n",
              "                                 OLS Regression Results                                \n",
              "=======================================================================================\n",
              "Dep. Variable:     monto_financiado_solicitado   R-squared:                       0.158\n",
              "Model:                                     OLS   Adj. R-squared:                  0.153\n",
              "Method:                          Least Squares   F-statistic:                     36.64\n",
              "Date:                         Tue, 28 Feb 2023   Prob (F-statistic):           3.35e-47\n",
              "Time:                                 00:22:32   Log-Likelihood:                -21488.\n",
              "No. Observations:                         1377   AIC:                         4.299e+04\n",
              "Df Residuals:                             1369   BIC:                         4.303e+04\n",
              "Df Model:                                    7                                         \n",
              "Covariance Type:                     nonrobust                                         \n",
              "===========================================================================================================================\n",
              "                                                              coef    std err          t      P>|t|      [0.025      0.975]\n",
              "---------------------------------------------------------------------------------------------------------------------------\n",
              "Intercept                                                 4.81e+05   1.18e+05      4.060      0.000    2.49e+05    7.13e+05\n",
              "sexo_director[T.M]                                       2.455e+05   7.87e+04      3.118      0.002    9.11e+04       4e+05\n",
              "gran_area_descripcion[T.CIENCIAS MÉDICAS Y DE LA SALUD]  3.999e+05   1.97e+05      2.026      0.043    1.27e+04    7.87e+05\n",
              "gran_area_descripcion[T.CIENCIAS NATURALES Y EXACTAS]    -1.55e+05   1.27e+05     -1.216      0.224   -4.05e+05    9.51e+04\n",
              "gran_area_descripcion[T.CIENCIAS SOCIALES]              -6.346e+05   1.59e+05     -3.981      0.000   -9.47e+05   -3.22e+05\n",
              "gran_area_descripcion[T.HUMANIDADES]                    -4.485e+05   2.04e+05     -2.194      0.028    -8.5e+05   -4.75e+04\n",
              "gran_area_descripcion[T.INGENIERÍAS Y TECNOLOGÍAS]        -1.2e+05   1.43e+05     -0.840      0.401      -4e+05     1.6e+05\n",
              "proyecto_fuente[T.CONICET]                               1.184e+06      8e+04     14.787      0.000    1.03e+06    1.34e+06\n",
              "==============================================================================\n",
              "Omnibus:                      255.266   Durbin-Watson:                   0.136\n",
              "Prob(Omnibus):                  0.000   Jarque-Bera (JB):              410.133\n",
              "Skew:                           1.271   Prob(JB):                     8.72e-90\n",
              "Kurtosis:                       3.831   Cond. No.                         10.4\n",
              "==============================================================================\n",
              "\n",
              "Notes:\n",
              "[1] Standard Errors assume that the covariance matrix of the errors is correctly specified.\n",
              "\"\"\""
            ],
            "text/html": [
              "<table class=\"simpletable\">\n",
              "<caption>OLS Regression Results</caption>\n",
              "<tr>\n",
              "  <th>Dep. Variable:</th>    <td>monto_financiado_solicitado</td> <th>  R-squared:         </th> <td>   0.158</td> \n",
              "</tr>\n",
              "<tr>\n",
              "  <th>Model:</th>                        <td>OLS</td>             <th>  Adj. R-squared:    </th> <td>   0.153</td> \n",
              "</tr>\n",
              "<tr>\n",
              "  <th>Method:</th>                  <td>Least Squares</td>        <th>  F-statistic:       </th> <td>   36.64</td> \n",
              "</tr>\n",
              "<tr>\n",
              "  <th>Date:</th>                  <td>Tue, 28 Feb 2023</td>       <th>  Prob (F-statistic):</th> <td>3.35e-47</td> \n",
              "</tr>\n",
              "<tr>\n",
              "  <th>Time:</th>                      <td>00:22:32</td>           <th>  Log-Likelihood:    </th> <td> -21488.</td> \n",
              "</tr>\n",
              "<tr>\n",
              "  <th>No. Observations:</th>           <td>  1377</td>            <th>  AIC:               </th> <td>4.299e+04</td>\n",
              "</tr>\n",
              "<tr>\n",
              "  <th>Df Residuals:</th>               <td>  1369</td>            <th>  BIC:               </th> <td>4.303e+04</td>\n",
              "</tr>\n",
              "<tr>\n",
              "  <th>Df Model:</th>                   <td>     7</td>            <th>                     </th>     <td> </td>    \n",
              "</tr>\n",
              "<tr>\n",
              "  <th>Covariance Type:</th>           <td>nonrobust</td>          <th>                     </th>     <td> </td>    \n",
              "</tr>\n",
              "</table>\n",
              "<table class=\"simpletable\">\n",
              "<tr>\n",
              "                             <td></td>                                <th>coef</th>     <th>std err</th>      <th>t</th>      <th>P>|t|</th>  <th>[0.025</th>    <th>0.975]</th>  \n",
              "</tr>\n",
              "<tr>\n",
              "  <th>Intercept</th>                                               <td>  4.81e+05</td> <td> 1.18e+05</td> <td>    4.060</td> <td> 0.000</td> <td> 2.49e+05</td> <td> 7.13e+05</td>\n",
              "</tr>\n",
              "<tr>\n",
              "  <th>sexo_director[T.M]</th>                                      <td> 2.455e+05</td> <td> 7.87e+04</td> <td>    3.118</td> <td> 0.002</td> <td> 9.11e+04</td> <td>    4e+05</td>\n",
              "</tr>\n",
              "<tr>\n",
              "  <th>gran_area_descripcion[T.CIENCIAS MÉDICAS Y DE LA SALUD]</th> <td> 3.999e+05</td> <td> 1.97e+05</td> <td>    2.026</td> <td> 0.043</td> <td> 1.27e+04</td> <td> 7.87e+05</td>\n",
              "</tr>\n",
              "<tr>\n",
              "  <th>gran_area_descripcion[T.CIENCIAS NATURALES Y EXACTAS]</th>   <td> -1.55e+05</td> <td> 1.27e+05</td> <td>   -1.216</td> <td> 0.224</td> <td>-4.05e+05</td> <td> 9.51e+04</td>\n",
              "</tr>\n",
              "<tr>\n",
              "  <th>gran_area_descripcion[T.CIENCIAS SOCIALES]</th>              <td>-6.346e+05</td> <td> 1.59e+05</td> <td>   -3.981</td> <td> 0.000</td> <td>-9.47e+05</td> <td>-3.22e+05</td>\n",
              "</tr>\n",
              "<tr>\n",
              "  <th>gran_area_descripcion[T.HUMANIDADES]</th>                    <td>-4.485e+05</td> <td> 2.04e+05</td> <td>   -2.194</td> <td> 0.028</td> <td> -8.5e+05</td> <td>-4.75e+04</td>\n",
              "</tr>\n",
              "<tr>\n",
              "  <th>gran_area_descripcion[T.INGENIERÍAS Y TECNOLOGÍAS]</th>      <td>  -1.2e+05</td> <td> 1.43e+05</td> <td>   -0.840</td> <td> 0.401</td> <td>   -4e+05</td> <td>  1.6e+05</td>\n",
              "</tr>\n",
              "<tr>\n",
              "  <th>proyecto_fuente[T.CONICET]</th>                              <td> 1.184e+06</td> <td>    8e+04</td> <td>   14.787</td> <td> 0.000</td> <td> 1.03e+06</td> <td> 1.34e+06</td>\n",
              "</tr>\n",
              "</table>\n",
              "<table class=\"simpletable\">\n",
              "<tr>\n",
              "  <th>Omnibus:</th>       <td>255.266</td> <th>  Durbin-Watson:     </th> <td>   0.136</td>\n",
              "</tr>\n",
              "<tr>\n",
              "  <th>Prob(Omnibus):</th> <td> 0.000</td>  <th>  Jarque-Bera (JB):  </th> <td> 410.133</td>\n",
              "</tr>\n",
              "<tr>\n",
              "  <th>Skew:</th>          <td> 1.271</td>  <th>  Prob(JB):          </th> <td>8.72e-90</td>\n",
              "</tr>\n",
              "<tr>\n",
              "  <th>Kurtosis:</th>      <td> 3.831</td>  <th>  Cond. No.          </th> <td>    10.4</td>\n",
              "</tr>\n",
              "</table><br/><br/>Notes:<br/>[1] Standard Errors assume that the covariance matrix of the errors is correctly specified."
            ]
          },
          "metadata": {},
          "execution_count": 19
        }
      ]
    },
    {
      "cell_type": "markdown",
      "source": [
        "Los tres factores resultan significativos, y en conjunto explican un 15% de la variabilidad del monto.\n",
        "Controlando por los demás factores, los varones solicitan $245.000 más que las mujeres.\n"
      ],
      "metadata": {
        "id": "l686SPdgwuBS"
      }
    },
    {
      "cell_type": "markdown",
      "source": [
        "### 3b. Modelo que prediga el monto - ARBOL DE REGRESION\n",
        "\n",
        "En segundo lugar, intentamos mejorar la performance predictiva con un árbol de regresión. Para esto necesitamos preparar las variables categóricas en dummies y generar la partición del dataset en muestra de entrenamiento y de prueba."
      ],
      "metadata": {
        "id": "YZNMt-jHNs0z"
      }
    },
    {
      "cell_type": "code",
      "source": [
        "from sklearn.tree import DecisionTreeRegressor\n"
      ],
      "metadata": {
        "id": "oZ4xF4O_OCQD"
      },
      "execution_count": null,
      "outputs": []
    },
    {
      "cell_type": "code",
      "source": [
        "#Variables\n",
        "df_2 = df[['monto_financiado_solicitado','sexo_director','proyecto_fuente','gran_area_descripcion']]\n",
        "\n",
        "#generar dummies para categoricas\n",
        "df_2=pd.concat([df_2,pd.get_dummies(df_2['sexo_director'],prefix='sexo_director')],axis=1).drop(['sexo_director'],axis=1)\n",
        "df_2=pd.concat([df_2,pd.get_dummies(df_2['proyecto_fuente'],prefix='proyecto_fuente')],axis=1).drop(['proyecto_fuente'],axis=1)\n",
        "df_2=pd.concat([df_2,pd.get_dummies(df_2['gran_area_descripcion'],prefix='gran_area_descripcion')],axis=1).drop(['gran_area_descripcion'],axis=1)\n",
        "\n",
        "#generar set de predictoras\n",
        "X = df_2[df_2.columns[1:10]]\n",
        "\n",
        "#generar la variable objetivo\n",
        "y = df_2[df_2.columns[0]]\n",
        "\n"
      ],
      "metadata": {
        "id": "yPZNi3onOQbo"
      },
      "execution_count": null,
      "outputs": []
    },
    {
      "cell_type": "code",
      "source": [
        "#importar método de train y test de Scikit-Learn\n",
        "from sklearn.model_selection import train_test_split"
      ],
      "metadata": {
        "id": "Rzju0OiPbf7s"
      },
      "execution_count": null,
      "outputs": []
    },
    {
      "cell_type": "code",
      "source": [
        "#Dividir en 4 subsegmentos con un test_size de 0.3\n",
        "X_train, X_test, y_train, y_test = train_test_split(X,y,test_size=0.3,random_state=12)"
      ],
      "metadata": {
        "id": "mVLcJ77Nbmt-"
      },
      "execution_count": null,
      "outputs": []
    },
    {
      "cell_type": "code",
      "source": [
        "#Generar modelo\n",
        "regtree = DecisionTreeRegressor(min_samples_split=150,min_samples_leaf=50)"
      ],
      "metadata": {
        "id": "yOamgEazQtc_"
      },
      "execution_count": null,
      "outputs": []
    },
    {
      "cell_type": "code",
      "source": [
        "#Ajustar modelo\n",
        "regtree.fit(X_train,y_train)"
      ],
      "metadata": {
        "id": "2uktzAG4Qz8O",
        "colab": {
          "base_uri": "https://localhost:8080/"
        },
        "outputId": "e4443eff-12c8-4194-964b-31f0f54d8e9e"
      },
      "execution_count": null,
      "outputs": [
        {
          "output_type": "execute_result",
          "data": {
            "text/plain": [
              "DecisionTreeRegressor(min_samples_leaf=50, min_samples_split=150)"
            ]
          },
          "metadata": {},
          "execution_count": 29
        }
      ]
    },
    {
      "cell_type": "code",
      "source": [
        "# ver el r2\n",
        "score = regtree.score(X_test, y_test)\n",
        "score"
      ],
      "metadata": {
        "id": "1Hn6HvPSfIB5",
        "colab": {
          "base_uri": "https://localhost:8080/"
        },
        "outputId": "118ed322-8063-4a20-df44-df850a87631d"
      },
      "execution_count": null,
      "outputs": [
        {
          "output_type": "execute_result",
          "data": {
            "text/plain": [
              "0.15685305537489302"
            ]
          },
          "metadata": {},
          "execution_count": 30
        }
      ]
    },
    {
      "cell_type": "markdown",
      "source": [
        "El arbol de regresión arroja un resultado similar a la regresión lineal, con un r2 de 0.15."
      ],
      "metadata": {
        "id": "kLPE2BNxiXQI"
      }
    }
  ]
}